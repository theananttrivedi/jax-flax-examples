{
 "cells": [
  {
   "cell_type": "markdown",
   "metadata": {},
   "source": [
    "### Imports"
   ]
  },
  {
   "cell_type": "code",
   "execution_count": 1,
   "metadata": {},
   "outputs": [],
   "source": [
    "from flax import nnx\n",
    "import jax\n",
    "import jax.numpy as jnp"
   ]
  },
  {
   "cell_type": "markdown",
   "metadata": {},
   "source": [
    "### Self attention block"
   ]
  },
  {
   "cell_type": "markdown",
   "metadata": {},
   "source": [
    "![Attention Block](https://i.sstatic.net/t6qJz.png)"
   ]
  },
  {
   "cell_type": "code",
   "execution_count": 6,
   "metadata": {},
   "outputs": [],
   "source": [
    "class SelfAttention(nnx.Module):\n",
    "    def __init__(self, d_model: int = 2, \n",
    "                 row_dim: int = 0, \n",
    "                 col_dim: int = 1, \n",
    "                 *, \n",
    "                 rngs: nnx.Rngs):\n",
    "        \"\"\"\n",
    "        d_model: the number of embedding values per token (default=2 for manual math)\n",
    "        row_dim, col_dim: indices to access rows or columns\n",
    "        rngs: random number generator state for initialization\n",
    "        \"\"\"\n",
    "        # In Flax NNX, we initialize parameters directly in the Module\n",
    "        # Using nnx.Param for trainable parameters\n",
    "        key = rngs.params()\n",
    "        \n",
    "        # Initialize weight matrices (equivalent to nn.Linear without bias)\n",
    "        # Shape: (d_model, d_model) for each W_q, W_k, W_v\n",
    "        self.W_q = nnx.Param(jax.random.uniform(key, (d_model, d_model)))\n",
    "        self.W_k = nnx.Param(jax.random.uniform(key, (d_model, d_model)))\n",
    "        self.W_v = nnx.Param(jax.random.uniform(key, (d_model, d_model)))\n",
    "        \n",
    "        # Store static attributes directly\n",
    "        self.row_dim = row_dim\n",
    "        self.col_dim = col_dim\n",
    "        self.d_model = d_model\n",
    "\n",
    "    def __call__(self, token_encodings: jax.Array):\n",
    "        \"\"\"Forward pass of self-attention\"\"\"\n",
    "        # Create query, key, and values by matrix multiplication\n",
    "        # In JAX, we use @ for matrix multiplication\n",
    "        q = token_encodings @ self.W_q\n",
    "        k = token_encodings @ self.W_k\n",
    "        v = token_encodings @ self.W_v\n",
    "\n",
    "        # Compute similarity scores: (q * k^T)\n",
    "        # Transpose k using swapaxes for the specified dimensions\n",
    "        k_t = k.swapaxes(self.row_dim, self.col_dim)\n",
    "        sims = q @ k_t\n",
    "\n",
    "        # Scale similarities by sqrt(d_model)\n",
    "        scaled_sims = sims / jnp.sqrt(self.d_model)\n",
    "\n",
    "        # Apply softmax along col_dim\n",
    "        attention_percents = jax.nn.softmax(scaled_sims, axis=self.col_dim)\n",
    "\n",
    "        # Compute final attention scores\n",
    "        attention_scores = attention_percents @ v\n",
    "\n",
    "        return attention_scores"
   ]
  },
  {
   "cell_type": "markdown",
   "metadata": {},
   "source": [
    "### Manual dry run"
   ]
  },
  {
   "cell_type": "code",
   "execution_count": 9,
   "metadata": {},
   "outputs": [
    {
     "name": "stdout",
     "output_type": "stream",
     "text": [
      "Attention output:\n",
      "[[1.1276929  0.73620886]\n",
      " [1.2950552  0.9069855 ]\n",
      " [0.95412695 0.5512294 ]]\n"
     ]
    },
    {
     "data": {
      "text/html": [
       "<script> (()=>{ if (customElements.get('treescope-container') === undefined) { class TreescopeContainer extends HTMLElement { constructor() { super(); this.attachShadow({mode: \"open\"}); this.defns = {}; this.state = {}; } } customElements.define(\"treescope-container\", TreescopeContainer); } if (customElements.get('treescope-run-here') === undefined) { class RunHere extends HTMLElement { constructor() { super() } connectedCallback() { const run = child => { const fn = new Function(child.textContent); child.textContent = \"\"; fn.call(this); this.remove(); }; const child = this.querySelector(\"script\"); if (child) { run(child); } else { new MutationObserver(()=>{ run(this.querySelector(\"script\")); }).observe(this, {childList: true}); } } } customElements.define(\"treescope-run-here\", RunHere); } })(); </script> <treescope-container class=\"treescope_out_d3ac8a2fd7144ec58ca263908830c454\" style=\"display:block\"></treescope-container> <treescope-run-here><script type=\"application/octet-stream\"> const root = ( Array.from(document.getElementsByClassName( \"treescope_out_d3ac8a2fd7144ec58ca263908830c454\")) .filter((elt) => !elt.dataset.setup) )[0]; root.dataset.setup = 1; const msg = document.createElement(\"span\"); msg.style = \"color: #cccccc; font-family: monospace;\"; msg.textContent = \"(Loading...)\"; root.state.loadingMsg = msg; root.shadowRoot.appendChild(msg); root.state.chain = new Promise((resolve, reject) => { const observer = new IntersectionObserver((entries) => { for (const entry of entries) { if (entry.isIntersecting) { resolve(); observer.disconnect(); return; } } }, {rootMargin: \"1000px\"}); window.setTimeout(() => { observer.observe(root); }, 0); }); root.state.deferring = false; const _insertNode = (node) => { for (let oldScript of node.querySelectorAll(\"script\")) { let newScript = document.createElement(\"script\"); newScript.type = oldScript.type; newScript.textContent = oldScript.textContent; oldScript.parentNode.replaceChild(newScript, oldScript); } if (root.state.loadingMsg) { root.state.loadingMsg.remove(); root.state.loadingMsg = null; } root.shadowRoot.appendChild(node); }; root.defns.insertContent = ((contentNode, compressed) => { if (compressed) { root.state.deferring = true; } if (root.state.deferring) { root.state.chain = (async () => { await root.state.chain; if (compressed) { const encoded = contentNode.textContent; const blob = new Blob([ Uint8Array.from(atob(encoded), (m) => m.codePointAt(0)) ]); const reader = blob.stream().pipeThrough( new DecompressionStream(\"deflate\") ).pipeThrough( new TextDecoderStream(\"utf-8\") ).getReader(); const parts = []; while (true) { const step = await reader.read(); if (step.done) { break; } parts.push(step.value); } const tpl = document.createElement('template'); tpl.innerHTML = parts.join(\"\"); _insertNode(tpl.content); } else { _insertNode(contentNode.content); } })(); } else { _insertNode(contentNode.content); } }); </script></treescope-run-here><div style=\"display:none\"> <script type=\"application/octet-stream\" >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</script> <treescope-run-here><script type=\"application/octet-stream\"> const root = ( Array.from(document.getElementsByClassName( \"treescope_out_d3ac8a2fd7144ec58ca263908830c454\")) .filter((elt) => !elt.dataset['step0']) )[0]; root.dataset['step0'] = 1; root.defns.insertContent( this.parentNode.querySelector('script[type=\"application/octet-stream\"]'), true ); this.parentNode.remove(); </script></treescope-run-here> </div>"
      ],
      "text/plain": [
       "<IPython.core.display.HTML object>"
      ]
     },
     "metadata": {},
     "output_type": "display_data"
    },
    {
     "data": {
      "text/html": [
       "<div style=\"display:none\"> <script type=\"application/octet-stream\" >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</script> <treescope-run-here><script type=\"application/octet-stream\"> const root = ( Array.from(document.getElementsByClassName( \"treescope_out_d3ac8a2fd7144ec58ca263908830c454\")) .filter((elt) => !elt.dataset['step1']) )[0]; root.dataset['step1'] = 1; root.defns.insertContent( this.parentNode.querySelector('script[type=\"application/octet-stream\"]'), true ); this.parentNode.remove(); </script></treescope-run-here> </div>"
      ],
      "text/plain": [
       "<IPython.core.display.HTML object>"
      ]
     },
     "metadata": {},
     "output_type": "display_data"
    }
   ],
   "source": [
    "# Create input tensor\n",
    "encodings_matrix = jnp.array([[1.16, 0.23],\n",
    "                             [0.57, 1.36],\n",
    "                             [4.41, -2.16]])\n",
    "\n",
    "# Set random seed and create RNG key\n",
    "key = jax.random.PRNGKey(42)\n",
    "\n",
    "# Initialize the self-attention module\n",
    "self_attention = SelfAttention(d_model=2,\n",
    "                             row_dim=0,\n",
    "                             col_dim=1,\n",
    "                             rngs=nnx.Rngs(params=key))\n",
    "\n",
    "# Calculate attention scores\n",
    "attention_output = self_attention(encodings_matrix)\n",
    "\n",
    "# Display results\n",
    "print(\"Attention output:\")\n",
    "print(attention_output)\n",
    "nnx.display(self_attention)"
   ]
  },
  {
   "cell_type": "markdown",
   "metadata": {},
   "source": [
    "### Manual verification"
   ]
  },
  {
   "cell_type": "code",
   "execution_count": null,
   "metadata": {},
   "outputs": [
    {
     "name": "stdout",
     "output_type": "stream",
     "text": [
      "Query weights (W_q) transposed:\n",
      "[[0.5302608  0.90153027]\n",
      " [0.31336212 0.6983329 ]]\n",
      "\n",
      "Key weights (W_k) transposed:\n",
      "[[0.5302608  0.90153027]\n",
      " [0.31336212 0.6983329 ]]\n",
      "\n",
      "Value weights (W_v) transposed:\n",
      "[[0.5302608  0.90153027]\n",
      " [0.31336212 0.6983329 ]]\n",
      "\n",
      "Queries (q):\n",
      "[[ 0.8224545   0.52411664]\n",
      " [ 1.5283298   1.1283492 ]\n",
      " [ 0.3911445  -0.12647225]]\n",
      "\n",
      "Keys (k):\n",
      "[[ 0.8224545   0.52411664]\n",
      " [ 1.5283298   1.1283492 ]\n",
      " [ 0.3911445  -0.12647225]]\n",
      "\n",
      "Values (v):\n",
      "[[ 0.8224545   0.52411664]\n",
      " [ 1.5283298   1.1283492 ]\n",
      " [ 0.3911445  -0.12647225]]\n",
      "\n",
      "Similarity scores (sims):\n",
      "[[0.9511297  1.8483683  0.25541237]\n",
      " [1.8483683  3.608964   0.45509294]\n",
      " [0.25541237 0.45509294 0.16898927]]\n",
      "\n",
      "Scaled similarities:\n",
      "[[0.67255026 1.3069937  0.18060382]\n",
      " [1.3069937  2.551923   0.3217993 ]\n",
      " [0.18060382 0.3217993  0.11949346]]\n",
      "\n",
      "Attention percentages:\n",
      "[[0.2859261  0.53924865 0.17482525]\n",
      " [0.2063534  0.7166012  0.07704547]\n",
      " [0.32337666 0.37241668 0.30420673]]\n",
      "\n",
      "Final attention output:\n",
      "[[1.1276929  0.73620886]\n",
      " [1.2950552  0.9069855 ]\n",
      " [0.95412695 0.5512294 ]]\n"
     ]
    }
   ],
   "source": [
    "# Print weights\n",
    "print(\"Query weights (W_q) transposed:\")\n",
    "print(self_attention.W_q.value.T)  \n",
    "\n",
    "print(\"\\nKey weights (W_k) transposed:\")\n",
    "print(self_attention.W_k.value.T)\n",
    "\n",
    "print(\"\\nValue weights (W_v) transposed:\")\n",
    "print(self_attention.W_v.value.T)\n",
    "\n",
    "# Calculate intermediate values\n",
    "q = encodings_matrix @ self_attention.W_q.value\n",
    "print(\"\\nQueries (q):\")\n",
    "print(q)\n",
    "\n",
    "k = encodings_matrix @ self_attention.W_k.value\n",
    "print(\"\\nKeys (k):\")\n",
    "print(k)\n",
    "\n",
    "v = encodings_matrix @ self_attention.W_v.value\n",
    "print(\"\\nValues (v):\")\n",
    "print(v)\n",
    "\n",
    "# Calculate similarities\n",
    "sims = q @ k.swapaxes(0, 1) \n",
    "print(\"\\nSimilarity scores (sims):\")\n",
    "print(sims)\n",
    "\n",
    "# Scale similarities\n",
    "scaled_sims = sims / jnp.sqrt(2)  # d_model = 2\n",
    "print(\"\\nScaled similarities:\")\n",
    "print(scaled_sims)\n",
    "\n",
    "# Calculate attention percentages\n",
    "attention_percents = jax.nn.softmax(scaled_sims, axis=1)\n",
    "print(\"\\nAttention percentages:\")\n",
    "print(attention_percents)\n",
    "\n",
    "# Calculate final attention output\n",
    "attention_output = attention_percents @ v\n",
    "print(\"\\nFinal attention output:\")\n",
    "print(attention_output)"
   ]
  },
  {
   "cell_type": "code",
   "execution_count": null,
   "metadata": {},
   "outputs": [],
   "source": []
  }
 ],
 "metadata": {
  "kernelspec": {
   "display_name": ".venv",
   "language": "python",
   "name": "python3"
  },
  "language_info": {
   "codemirror_mode": {
    "name": "ipython",
    "version": 3
   },
   "file_extension": ".py",
   "mimetype": "text/x-python",
   "name": "python",
   "nbconvert_exporter": "python",
   "pygments_lexer": "ipython3",
   "version": "3.11.9"
  }
 },
 "nbformat": 4,
 "nbformat_minor": 2
}
