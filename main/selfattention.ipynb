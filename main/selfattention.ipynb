{
 "cells": [
  {
   "cell_type": "markdown",
   "metadata": {},
   "source": [
    "### Imports"
   ]
  },
  {
   "cell_type": "code",
   "execution_count": 1,
   "metadata": {},
   "outputs": [],
   "source": [
    "from flax import nnx\n",
    "import jax\n",
    "import jax.numpy as jnp"
   ]
  },
  {
   "cell_type": "markdown",
   "metadata": {},
   "source": [
    "### Self attention block"
   ]
  },
  {
   "cell_type": "code",
   "execution_count": 2,
   "metadata": {},
   "outputs": [],
   "source": [
    "class SelfAttention(nnx.Module):\n",
    "    def __init__(self, d_model: int = 2, \n",
    "                 row_dim: int = 0, \n",
    "                 col_dim: int = 1, \n",
    "                 *, \n",
    "                 rngs: nnx.Rngs):\n",
    "        \"\"\"\n",
    "        d_model: the number of embedding values per token (default=2 for manual math)\n",
    "        row_dim, col_dim: indices to access rows or columns\n",
    "        rngs: random number generator state for initialization\n",
    "        \"\"\"\n",
    "        # In Flax NNX, we initialize parameters directly in the Module\n",
    "        # Using nnx.Param for trainable parameters\n",
    "        key = rngs.params()\n",
    "        \n",
    "        # Initialize weight matrices (equivalent to nn.Linear without bias)\n",
    "        # Shape: (d_model, d_model) for each W_q, W_k, W_v\n",
    "        self.W_q = nnx.Param(jax.random.uniform(key, (d_model, d_model)))\n",
    "        self.W_k = nnx.Param(jax.random.uniform(key, (d_model, d_model)))\n",
    "        self.W_v = nnx.Param(jax.random.uniform(key, (d_model, d_model)))\n",
    "        \n",
    "        # Store static attributes directly\n",
    "        self.row_dim = row_dim\n",
    "        self.col_dim = col_dim\n",
    "        self.d_model = d_model\n",
    "\n",
    "    def __call__(self, token_encodings: jax.Array):\n",
    "        \"\"\"Forward pass of self-attention\"\"\"\n",
    "        # Create query, key, and values by matrix multiplication\n",
    "        # In JAX, we use @ for matrix multiplication\n",
    "        q = token_encodings @ self.W_q\n",
    "        k = token_encodings @ self.W_k\n",
    "        v = token_encodings @ self.W_v\n",
    "\n",
    "        # Compute similarity scores: (q * k^T)\n",
    "        # Transpose k using swapaxes for the specified dimensions\n",
    "        k_t = k.swapaxes(self.row_dim, self.col_dim)\n",
    "        sims = q @ k_t\n",
    "\n",
    "        # Scale similarities by sqrt(d_model)\n",
    "        scaled_sims = sims / jnp.sqrt(self.d_model)\n",
    "\n",
    "        # Apply softmax along col_dim\n",
    "        attention_percents = jax.nn.softmax(scaled_sims, axis=self.col_dim)\n",
    "\n",
    "        # Compute final attention scores\n",
    "        attention_scores = attention_percents @ v\n",
    "\n",
    "        return attention_scores"
   ]
  },
  {
   "cell_type": "code",
   "execution_count": null,
   "metadata": {},
   "outputs": [],
   "source": []
  }
 ],
 "metadata": {
  "kernelspec": {
   "display_name": ".venv",
   "language": "python",
   "name": "python3"
  },
  "language_info": {
   "codemirror_mode": {
    "name": "ipython",
    "version": 3
   },
   "file_extension": ".py",
   "mimetype": "text/x-python",
   "name": "python",
   "nbconvert_exporter": "python",
   "pygments_lexer": "ipython3",
   "version": "3.11.9"
  }
 },
 "nbformat": 4,
 "nbformat_minor": 2
}
