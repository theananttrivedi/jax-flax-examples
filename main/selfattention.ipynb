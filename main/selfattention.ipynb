{
 "cells": [
  {
   "cell_type": "markdown",
   "metadata": {},
   "source": [
    "### Imports"
   ]
  },
  {
   "cell_type": "code",
   "execution_count": 1,
   "metadata": {},
   "outputs": [],
   "source": [
    "from flax import nnx\n",
    "import jax\n",
    "import jax.numpy as jnp"
   ]
  },
  {
   "cell_type": "markdown",
   "metadata": {},
   "source": [
    "### Self attention block"
   ]
  },
  {
   "cell_type": "markdown",
   "metadata": {},
   "source": [
    "![Attention Block](https://i.sstatic.net/t6qJz.png)"
   ]
  },
  {
   "cell_type": "code",
   "execution_count": 2,
   "metadata": {},
   "outputs": [],
   "source": [
    "class SelfAttention(nnx.Module):\n",
    "    def __init__(self, d_model: int = 2, \n",
    "                 row_dim: int = 0, \n",
    "                 col_dim: int = 1, \n",
    "                 *, \n",
    "                 rngs: nnx.Rngs):\n",
    "        \"\"\"\n",
    "        d_model: the number of embedding values per token (default=2 for manual math)\n",
    "        row_dim, col_dim: indices to access rows or columns\n",
    "        rngs: random number generator state for initialization\n",
    "        \"\"\"\n",
    "        # In Flax NNX, we initialize parameters directly in the Module\n",
    "        # Using nnx.Param for trainable parameters\n",
    "        key = rngs.params()\n",
    "        \n",
    "        # Initialize weight matrices (equivalent to nn.Linear without bias)\n",
    "        # Shape: (d_model, d_model) for each W_q, W_k, W_v\n",
    "        self.W_q = nnx.Param(jax.random.uniform(key, (d_model, d_model)))\n",
    "        self.W_k = nnx.Param(jax.random.uniform(key, (d_model, d_model)))\n",
    "        self.W_v = nnx.Param(jax.random.uniform(key, (d_model, d_model)))\n",
    "        \n",
    "        # Store static attributes directly\n",
    "        self.row_dim = row_dim\n",
    "        self.col_dim = col_dim\n",
    "        self.d_model = d_model\n",
    "\n",
    "    def __call__(self, token_encodings: jax.Array):\n",
    "        \"\"\"Forward pass of self-attention\"\"\"\n",
    "        # Create query, key, and values by matrix multiplication\n",
    "        # In JAX, we use @ for matrix multiplication\n",
    "        q = token_encodings @ self.W_q\n",
    "        k = token_encodings @ self.W_k\n",
    "        v = token_encodings @ self.W_v\n",
    "\n",
    "        # Compute similarity scores: (q * k^T)\n",
    "        # Transpose k using swapaxes for the specified dimensions\n",
    "        k_t = k.swapaxes(self.row_dim, self.col_dim)\n",
    "        sims = q @ k_t\n",
    "\n",
    "        # Scale similarities by sqrt(d_model)\n",
    "        scaled_sims = sims / jnp.sqrt(self.d_model)\n",
    "\n",
    "        # Apply softmax along col_dim\n",
    "        attention_percents = jax.nn.softmax(scaled_sims, axis=self.col_dim)\n",
    "\n",
    "        # Compute final attention scores\n",
    "        attention_scores = attention_percents @ v\n",
    "\n",
    "        return attention_scores"
   ]
  },
  {
   "cell_type": "markdown",
   "metadata": {},
   "source": [
    "### Manual dry run"
   ]
  },
  {
   "cell_type": "code",
   "execution_count": 3,
   "metadata": {},
   "outputs": [
    {
     "name": "stdout",
     "output_type": "stream",
     "text": [
      "Attention output:\n",
      "[[1.1276929  0.73620886]\n",
      " [1.2950552  0.9069855 ]\n",
      " [0.95412695 0.5512294 ]]\n"
     ]
    },
    {
     "data": {
      "text/html": [
       "<script> (()=>{ if (customElements.get('treescope-container') === undefined) { class TreescopeContainer extends HTMLElement { constructor() { super(); this.attachShadow({mode: \"open\"}); this.defns = {}; this.state = {}; } } customElements.define(\"treescope-container\", TreescopeContainer); } if (customElements.get('treescope-run-here') === undefined) { class RunHere extends HTMLElement { constructor() { super() } connectedCallback() { const run = child => { const fn = new Function(child.textContent); child.textContent = \"\"; fn.call(this); this.remove(); }; const child = this.querySelector(\"script\"); if (child) { run(child); } else { new MutationObserver(()=>{ run(this.querySelector(\"script\")); }).observe(this, {childList: true}); } } } customElements.define(\"treescope-run-here\", RunHere); } })(); </script> <treescope-container class=\"treescope_out_39380a0a175548b6b52ea1d9cb3d4c8e\" style=\"display:block\"></treescope-container> <treescope-run-here><script type=\"application/octet-stream\"> const root = ( Array.from(document.getElementsByClassName( \"treescope_out_39380a0a175548b6b52ea1d9cb3d4c8e\")) .filter((elt) => !elt.dataset.setup) )[0]; root.dataset.setup = 1; const msg = document.createElement(\"span\"); msg.style = \"color: #cccccc; font-family: monospace;\"; msg.textContent = \"(Loading...)\"; root.state.loadingMsg = msg; root.shadowRoot.appendChild(msg); root.state.chain = new Promise((resolve, reject) => { const observer = new IntersectionObserver((entries) => { for (const entry of entries) { if (entry.isIntersecting) { resolve(); observer.disconnect(); return; } } }, {rootMargin: \"1000px\"}); window.setTimeout(() => { observer.observe(root); }, 0); }); root.state.deferring = false; const _insertNode = (node) => { for (let oldScript of node.querySelectorAll(\"script\")) { let newScript = document.createElement(\"script\"); newScript.type = oldScript.type; newScript.textContent = oldScript.textContent; oldScript.parentNode.replaceChild(newScript, oldScript); } if (root.state.loadingMsg) { root.state.loadingMsg.remove(); root.state.loadingMsg = null; } root.shadowRoot.appendChild(node); }; root.defns.insertContent = ((contentNode, compressed) => { if (compressed) { root.state.deferring = true; } if (root.state.deferring) { root.state.chain = (async () => { await root.state.chain; if (compressed) { const encoded = contentNode.textContent; const blob = new Blob([ Uint8Array.from(atob(encoded), (m) => m.codePointAt(0)) ]); const reader = blob.stream().pipeThrough( new DecompressionStream(\"deflate\") ).pipeThrough( new TextDecoderStream(\"utf-8\") ).getReader(); const parts = []; while (true) { const step = await reader.read(); if (step.done) { break; } parts.push(step.value); } const tpl = document.createElement('template'); tpl.innerHTML = parts.join(\"\"); _insertNode(tpl.content); } else { _insertNode(contentNode.content); } })(); } else { _insertNode(contentNode.content); } }); </script></treescope-run-here><div style=\"display:none\"> <script type=\"application/octet-stream\" >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</script> <treescope-run-here><script type=\"application/octet-stream\"> const root = ( Array.from(document.getElementsByClassName( \"treescope_out_39380a0a175548b6b52ea1d9cb3d4c8e\")) .filter((elt) => !elt.dataset['step0']) )[0]; root.dataset['step0'] = 1; root.defns.insertContent( this.parentNode.querySelector('script[type=\"application/octet-stream\"]'), true ); this.parentNode.remove(); </script></treescope-run-here> </div>"
      ],
      "text/plain": [
       "<IPython.core.display.HTML object>"
      ]
     },
     "metadata": {},
     "output_type": "display_data"
    },
    {
     "data": {
      "text/html": [
       "<div style=\"display:none\"> <script type=\"application/octet-stream\" >eNrtPf1+4zZy//spGGcTSmtJS8qSZVu277cfySVtPra7l7umrn5eioRs7lKkjqRsOT7933uP9gH6Cn2Ue5LO4IMEQJCSvZte23gvtysCM4PBYADMDL5OgvDayvLbiJzuBmG2iLzbYytOYrJrhcHp7ixJLwIyI2lKgovDqTdyp4fD4cDtD4be4OioP5wdDPe9Qy+Y9Z2D3bOTbOHF8DfSO+t5aerdXoe/XPhJnHthTFLrzrq5CnPSBTifYEHp3IvG1toyAffCeJYAygxSujNvHkbA2zyJE4o9tvwkStJj63OP/hlbcy+9DOPuNMnzZH5sOb3+kMzHaomLlDQXF8aLZX6e3y5AIKkXX5LdCbBwTdI89L2o60XhZQxchEEQAaVZGOUEeLgEahnkk5bbthIoKsxvW05v2L53YcdXyTUVVJX0/ejFy/mUpEAwTvLW8Szxl1kbyE6TNCBpN/WCcJkdW/uL1ceRZL8p00hetMmI/hnz4o4td7GysiQKgzKrodReBpAkzXR9aWo9ykIeLgBHUeSxtUiyMA8TaDZvCjwsc0ibev6HyzRZxkGXs0wLMjE8jQAWqHhBEMaXTK/8KyQbxtBCXXJN4jwThd2EQX51DK2Xd5E5yBpbyNksSm6OreswC6eoONVq/dIN44CsoGTHcZprOU1WW9YyWXWzKy/Aoh36P6wWrVCHJ/QhgVfdXKGCr6MGtvwo9D8EXu7dp8WixEOJXsxJlnmXRNIe0aPXJ8/YWHKSp4RkfrIg3XQZd69ICmmZn4aL3KK6aXuLBfDgoQSeJX5O8m4GON7cPtvBP1BslluCC+vUarXa1umZdbdjWfDfbBn7iGoFJCNpCL38F/ITSOOwhZ0GACwrJfkyjS2a+hzp9GZpMm95eTIFoI7VmlOC856fBOQ1ivJ53nLa7TFgr3fqi/kaxJDv98uCGKvT25xkwOeDyhNEZkgbqcTkxuIFUVotSr43Xc5gbOcovIIMZxPX38b/IzzTYu7FMWM5Irn1EpVp7i3e/P7FK9DMsV6bS5K/BGUM42WyzChw69qLlqTD1BAwEU3UEClOvYxc0N7QsZLZLCM54yOcWQzVOjm1HIFhSfBQHWfMUxlmmbK2SJQRicjZqeXWEJE560UkvsyvrK7Vr5B2eypxQYyJ2M+zgiIr8qnVMpN222MTH997+VUP5A4yK4i1K1yU5XxhuZwfqaVTrULnZRGTc2eCTLnAAiPXtvY4easOydqzXI4otw4r7LKpMPehhbnmwqZNhfUfWlhfL4zr/3nasS471nRi7rS3MZhO/vPUz8L46g0B6i1e3gdyS8f8P3K1j8LF9x7odurdfB/G7F/85iR+7y2EWhbUs9yD+ewt2icBL6IFGLm3LDUYNfuzMPs6jGFiaNGsv/yFqRBMVa1V23qGCNaJ5ZLuoMQrKrgSmqVpcwFAaWVgmSGxp5TY0wIG/1CAKLlsVUvd49h/TnNoFP61SG5aKwbQsfrtdqHba0mLi76vyNE6VcYAzGfy1DI08aPGMPnXVlaHZ2RNnOmQRa2VDDGK0lYWUHNv1RLtzhlqj2tqelJAFFz+nf5h3Q5aC/uMdbqjtTxZLVqFCqgygG5YqjfoTgEmqlY0fVEGiEqU9Ix1ZFUszzTBsckDBAtjLeCaukzR9bB3jCXVEVia6hTEoMe4jqoCxfCKXX1BcJRFbYd5t6mzPuM0BS3eswQR42zy0a1VKr2QZPlpUlWdEMo1IHEyD2OwMdJCh8O4JamAqdra0MdFQFmQRrvOBiqioyC60mwKU1rbqQwbG5ALf6tmk8iVU2xlFsiTt2hIv81TsLjZXK/absUkIqYuZYp5l15OW0/u0rX15O4S/5qu2++M0w3a96mXgVl1+bASJQh0R2Lwam4Botd3+wfQP1MYonsjd9iH35f42xn18fe0HKRKtDPL7R+WsueVsakDZBtVWoBQJ8ZWBKpVFPzz6LWXg8MUgw0E7QH/3XbATaRJxUQJjdxCNQ2pwQf/nAgQbmRB2t5eW7PQ0uQG4DngeTgRClKQe8/IvQdyAFuQei+T4pNPcnP+fiKnQiH5qof8vyF+3kLr4j3wDv+EHcvtSDZfqZHrimoxRoPwMsyp8fw6Dedeik11TmHtz2f0j92Bn+5sNJoO6M/ZbDRzCP3Z9z2n79OfwUF/1D+kP48GB6NpQH8e+sODwdTucIJkfzTy+zRn6k+DPvvpjqbEn9kAQ8Wk8/WWQEqgcjaa4f8otkf8ETnknE2nI87DYTA79Hjq0eHRAf3pD6dOMGQ/B0f+0aDgbDaaHgSMnWAaTA8Z+0ck8Miw4Gyn4M4nUfQWvChgaTRmGZrTAp7JLLys+CwBjDg/xuQl4IsRjuoeNDJ1WzoWd2HCDEa2MCh9GUawUwzoQiG4cUahJS3kCkK7MHBpJx8i/6o1HH6BQYO2Pd4xKBIUBR1xRLlhP/C/9riZ5sjRaFY6FqeLRnBBm32cF3p67nSs8r9JR8lwaapbzfgkGJN2xY9Thd7DCAVMA1Blv3A4bb3L+9zsV6yXCikBpcw2YfaD9wNzHttyR69IXB747tt8BnI4KfSHQyoP+LctUX5QI4KIXUnE7kSef2ubpWgYt9KUzVh1ZU3amgleuubQht9CO4Ajc6sImrUgNhXIxRBYAH+8Y1XaripS0zT9qZqrcWb++JZjInbv3zwPyzKW1dxy3Qc1nfObaLpSoqZGqOs+zf2xuau6Gzqd3kR84grQ8eVzGB/yxqq9I+DOMAqm2T0P7af3be77NviDm/zBjd7YwTZlulL/c++FWZ85ka3OsvcWzXliOfduTue315xOk9ydBzfnvckamlNuutJsEQ3cVtu28PHvb3sYC6yQUPLwj6oCBm0SnEoqpTTd+sH6onlZmwxJy1544CzkPDpsV8JvH2VRqr1KZJ/TsXYim50cBPhZAhswtZLg0fr89NanPhHWxE1MMirCNh0at+lIgZv7N8HWykl972lSq5foxL720jx7cfsKQQvHnMpFdrhQfqNJNQWard+x9s05INjhRogDDjHAf/dBgTZCDjkkxRg8BGMf/x1+HCb8e4D6Unqfcow5jK/RjweBzjxoJbmzMiv4C8u1PtPikaX1VGDn6ZJs0MKYXHp5eE2KJcSTcoVTwMy9SzC3l4GyBKHbbFK8Bld9C5wejsd0KG73skUU5i3b1kw9hiQWK08qisVzTEYDgl4sEBbK1PHOFcITeYxHKS9SukPiIiUL4uXZRTLD1eplFCnzuCHwp5AdW3t7oT7n8R6e5cBNx8rCgHAeOJeMZSkgWJEhAP5At+lw6QBsWwUuJEeH7mpldJ6qw4ohuMZEprFlbSeqmvm6qVwebLxPqRRUK9ZoH9CxsGIdlDMIb5xyFqm0lvy71kLQjCHRn9rNVkt1Fq2YSnWTnzSun2vVOzfbfqWTZ8wwGISTmuoaGliuv3Hgkc0iOdjFgB8tjU9paRj3imwthu3FW7OUgmYEW4p7HgffxkHok6ylR7JDlo4/MtATiqptQBID+jkfEuggLNaSAMmCkcCELTQLcs5ttGPsCbVkYNYhqRfZsrLRMnqLZXYlECijtjH2VCWpW+yC9WLTDK/mOUf1VmFmTybqxCeATy0OlX0IFxd0HLK1pR6J3XdP7gzg62M1mcQBJL4ze+O84JP7lsvwTFQ34VhdU1m4MwnXq5r53qY9WOPpi2aVBZEqexTxHjWyW3Mv+0ACK1nmbftBbF5ESfJhuahwK9ZvrC+/tD7juOFlnKToINLRsqF16vmqVoeparacZjnYaLTvFirIeLuga9X2RHMXBacqap3nWOFwGX+Ik5tYYa/GapDw5MLq5qVtZI9d0CR6tO7M3baHKOY+e7a56xQ0H9IDqnp1r2ZjRWqsb9tqG9usuYfUtNe6zhGRizv53ZmtORVJRHokTZO0Zf/EeJHHfpvPI8adXXwXACvgfRLGwvdQNpg+h0Z+uyB+ZZX2Aow/7/anOA+jP7IN362AYOyPbk/uWB4FE7KT5i+6PTyEWef2x2lG0mu6eYfvgyVpRiieyGq1wMZNQ5IVG5lFe/H0c2fSCyXEN1g8KKBTnX34VuzvvfQDbrs/tSR+e39ekvT2Ldizfp6kz6OoZetbt2XRs8q15GUJ4QqRCDuMVpiqQgDSS8k8uSattkmVqxLqBWEGlYjR9tAbs2PdrYu9wlCNLH8eg+OADH6denMibQKvIZ6wH3L7CVPGvLN7ugyj4DnfZ/51eLlMtcb3abRE1HqTqqgMXmxLXWVRVs178ieMp1nCgtgY6MEvebcr3VX/wsvIwaAEkhIrsK9YqEgBpWkyJJ23voepSaesZcg4eAIBgwYB3YbO4aVEGXYluq8EWqbJkLcGyFsjZBbBHBAYwLUMGUeNopUovrYTRLJywxWMhK9JittASgQlWZPkknxNbWxcf/hWMoAVqdYBjXfKcQq7MW2vcruV3KQwW87YMQNppqQAbEzRDz1IWlLdRaERDuONZNmphFqiAjO/Qt8Ex9Wv2PywjLPlYpGkOZhBAZ3529Xt6lTvLtBYUgtl50Q0rWzLQiskl0To5PKt8JjgL9MURms1MSML6sQ4shejhZKKvbqlyvZE8OFWT2pre8ywADZv8vLL2H/BD7K6J76Lnf2UfyVxrddTrXGe5F70Mokyrd5J9Cc8KEXr6U7KDFYdkGrFjdMEUKm3cR9dBgCAUwJLoTMex8QduZDTA+sJbCr6k5pYAqzkiImsNE3kupW/nwLJPSpiKAt3+sfKMYqi5oxagacoXCG5N8mNJjnQ3G9IeHmVV0R3u63obu8jutuPEN1ts+h45crfG0RXVl2SHSK2a1SRTzk+xtXe4gj8I7VusdC7db18tMF6CyFpGJKkqoWfUznFYH1MpDNAOzrXvgeeWyYv3bWCxF/OoeP1/JR4OfkqIvjVshmoXRyjop89ehAR936Xqrln9fF4hNh9qIBfUckW8LQ9zPCSUF9SXFwnJatc4ZVT5auokNuy+wFl0TBI8B3X9GzKP/KN2UqcuIzZg/mJ0xs2oWoaSasgYuZ8U26Al0POTUtXxv15RhTOs2q98n3+UGAFfi4dB5A291d2h/Pd/frO8Mr6MtsTQ0+APJ9mphKLTHVjQoHorRoQaWaFYXNDnTL5VtcyKs3AN7TTLccoENxyj5u3deGY1++5AUk3wH8vSDYcbyr/mPjuYKmdUoSdUigdy+m5w/Z42+ooPGHiHh7ge1aey9sYDOfrZXhIyKA6YWxowvvoGTt8NJcP6myqlNMbbtEiDS3cxerQFkZO2deGIMyO4XQHGO/f6icopbAuHYDBp9RGYOW8RUFi71T2EOSB+GnzQD3WOeQuRDmfSOYIaiAbmxxtT8VtCX/bDM+HsXLqt/BYdURgdE7x0NKdtH7CrQIGW6TWgis/JQcB8KnhfF7Ia1JVOhFoPFWsYT4AWL+j6zfWsfXZZ2V2DT3DTnY5gqDNLffY4b5TWbdTdFTRQfNPZkwF117sk5fJMs5l3XuoUcUtIqFbYN/sSY1bGDiYWto5FEwYRCpsrVYrBpuqvuWIIPNxdioZarhcXFmH1T5V2VSroVZTk53Ke3cj79A1Fe50WigzoNKqEVq7Gb9m4Vn7nIK99aF+6XitDbea7pwW4jDuR9BKq5QlzxvWTnXXhjIOrOrV9iFOFPV/GlQWh6i909KnqdXXWm1dNWsrinOl6uqqSVeVj9UGPV01aWmtjq6MOrqq1zEUEmqoWUrtJmSjem6tLor5utKVctWklDu1JdRN1uo/hiG8F4Ux+RN3StxxA2CWp8kHUrOYX0f5pbdA4OzPSy8lG6H/IaGmlj3HBV77V51idxonNl5Z054TtpBeHBXroknWMYx+m2CK3KeyDroT63e/QzMV9yY0YEjjah1K3ZRqmkfd2nnUfZxHH+fRhnn07NPNozvbTZ5uzeTpPk6ev+nJ8+wTTJ70bzkYVt6oQnIlTtGKyY34re5XkjJwQjcFOdp8KVuwUBdpKyndM0qGW042R8bkyF1lkVaPCBaSYFsTXuOyFt53cFt3zIH6ydKNRDT4QAMwYiLDWz7cseGEvYx1W4OlCgT3OeP1NYjPf2LqmdyRyxh/eY/SBCB31OH2TJmipOi2hGW4DUeOZTZbYeLgXLaMcinm/ckiK2JxmBEp4//QQbcKp1icNzUkTumN7xm+UZDWahQFtR3z+X1TlbsUQjV+U0ofx/kz5ix1u9WKNy0uFTCUWWvzMM+DekmwjJaZCk9vfypw6JeMp9ev/PxC0BtXjrsmaaBd4yUjPuN8V7bpl/eQIYE9w5qP6CiYz/sHQzorF4vU4dKg1vL4++urCPQ8WYTwaVSR24eryO1WKrLRXtV1REZoVJJqDR+mJArib0dJxD1reny0YxnDnB3OThm0nDQuUJZXYmI8X7onqNyChaHLOHgJDmdQuwwYhNd2W71LMYwpVWldTl9RYQXfnz6lrKCxFT+xwFeSphd4FquRtnQxqj02ghYrkVvA4tXAX9Obgak3L+4GroHOUy/OcLP5j2l4yQIAebKAMWBWRx8mrtdpsiBpftuyw7l3SbopQe0P40u84oXuuQEhBXZ7CwLdrriAtPtLksyRgLslIt421qUXIWdgmVDMwWJlC3Gz5lBF/c73Ir917aUtrVy0mp/cycvE68VKnAqUKRUtsR0pBl5DS1xPSw8SoMzAPLCFsjD8rRtJBlfkRO9JRuGYWLWri8+60Pkdv99BWUWtn9xVBv41vcCxNyRzHGehvqLCNfT+kCwkcqutyFV2MUTRd96URPLmDr6qRNNfa0cf+NyC6+9z6BcUhobU6NJ5hJ/K+jlNERqEl1+9xY6E0l9I8TQZit2U/ILeto1wTs+FGkh3JhuxUIfZ1UfSUGRT0eC1bS5dlm05vQMcXKuN2EaNYxlql2iL4yjrX3/PEK2Pdqq6edQ0SULuEeLKZqPIIlkd6zsh91qk/qe3F28pRsh1nC9A357chah/VP3MeHw8kWq7iRPddC0jlAbmMAr6kg3ywomgGSZWEPY53sCOMpNGBMuo6FzLC4+2MmWp+UUPY7uL5Mz1r76X6n9YpZRRM01yII/DZvfICcilbaRtGJe5RqU47BuLSZX5Y2uNM2lq13q45t9bg6uGdaMKG5RTlckW2rmjWtCgqt89WCVK9I29SwLdQoUq0NNy9K8HElrQBANjv1gbsrG96yEV1S2UsptQrUQlVrRSU2W595eUHzpEGChIkzGDuaNAx1I9OnjSCpMo7XW7bgcgDby8SFYkq7fgP8pHKAvo+ZGXZd+FWd4DiwUs3XiWoCj5MwyF5XSf8BAHY7ccNm4T5V4Q21X8ljOlKb62kiCxvk218VkSW7rFWSuL02i9+9f4yV3ZR9bn77QNPPgARoW1ukLpyxlSr2TIPIpq2ewxDVvLFVtxqlLiAGyPWH22t1LF7WoAWU4W8tqGWRRMnAxlk9TsiWVrcmJ680A5MeRCTvRdFFvLrBcTB6gTk8iuFRMH0MVUJFc9LLRXB45/hberZHyCKGeIJvkyolXZ+Rg4hZyXMN7gQyX0uQpynSsGe0UWANCDql6SnCWVoQ9Nt+oBd9SV6vpty/yKCZ2S0r2luFBN/F9vchh7vsKLG3AgIjBcCt3omISi96uHIFcHXYziREDhEw65nGI5/oiUHt1IZxf2x5wdiLMrZ9fxqm8YavEgP15q0xvSM/UuXkIjrxCoNfhxwadxhf+i7G1YTygJeeBUiRcaVdwbLp+XQXOqOhBsOQyUyMaBQMpmPd12DTm0k9t9Qxbv3rYX31YzRa0MB6pkEiR/nudpOIXJvGXTFu7ITasF4mYJvrT16QJ8nKJx5tZAmp16ASVG839J8PGsrk6EZ5cCMOfbe9SfpyeTZ0m7Gsconmmq7WBVI2wrgQjCTCI/wECF9RSp9ljnQZvIPx0POBhVecD7sDSg+4Xrqu6HRmjraF2VErfAikecPmEcWtCsMzELADU8J12zvvqevusGE4c20mEACDdO0Vg/thfMQy/wSa8wvnwZhcDMG+VQsLTkE4Nb9EaI68mdoMRdlW5BmsZeQFDvjCtCIgYg2fw1O0EKE1eE6SQcdYmHg/Soj6A5UAXXBng51mp2kVDa8kFtrAW1c7kMNVIbhMmWcAp8oX1npehYinb51iZ2NTtf5Z4FKlo0SNG2aBYG31tdpzdE+8vt9clcuyTiY2poqXrC47cVZSmFwLUFD075V/I9e4a9KA8m7aiBE31XiaLns2UkKi9oN2ly6d9u0mNOtEDA7Twb5Slxo56amuXH5csdAopWuSMKo1/Kgxx5sjBhQXKJBB8KDpXrcXl6tsCiGSUe/VQwxauSVVSWU+Kybwl5bXifpWnZQdIDGvrtWopI5OGoacGhEu5iD2LSCFxRAC6tSPThU4lv1dCXhk5VgvLQmfLVoE3EihUEmRoP4kjkWEpJb62dSseJCaih+UK3DGXlvhamtcsFTDME879Ok/lbbpmajxEquwPwtpPg9Ypdn8HXw2lq6yaMg+SmF5Br8DBoqRRIuZy/BgZfu1I29+jFuNYzuSj83FSc+v7PogB4HrxfZvmcxQC1gmqp1r+442fZ69UfqNtHHylJM3aev6Xb0IocZCyt7ipBV68OYivoT7VKtK0vpCc1TisXnHzckq75Csx70fSWeWLXNBNds0Q9lGsob0J7amzJuk61YcEZ+hgtULq4SrawlCU0xt+Nl/tXkt7qPYZvSiFBqF40zNVqjujfY27rXSslNKBMXyl9clejeOtggUOQFhaJuFtfKd9iZfNbY7QQgH9FncZOgS7NRqbxQJ6ttIpLcQvxgxVcDTzUlbquOJH1QQu1kg2DW3GBXBSwdWaJPLvNCZIFaHOdd5SWy/w0iaIXik12RyddUwn4nCHloGNNyZV3HeJDrjZeseTFub3Wy5AdaVrOt3Ge/DEkN607AzrQjBL/A6TExAMlKgmu1UPvVXnOk2VGNQNlqsfQxOVHuM8UJCdvOMXQFqvcP3es8uNnZUwTmIYT0IU7yrolf6yXBn6TmEg3SGpeXB1g3WXQxWnIi2vtmsRi81FRs20KpYKuZ4+tRStW+gZ3k26apQeia9bQKmXkmvWyuQh64GNzEdgc6oKY+eZJpex6ATdcmdMeb6EIuqil4ASYRgBxoOehxUQCsVBWUGaqyZL3CgJm5G9ElEDD5ukmdHqlWNkdoKfLfJxZjvXll4rIZOA9DZi5XhLHqoOoSYtvfbCV+241GO4da57jdkvHarVE1TXdMThvRjaNHGxV9F5d0XWVVSSyrmmpn4uW+kY45w1N9XPRVAW03FbfGLx5jTfab5vbSqwXf2Rj/fwxjVUdXu7RVj/fo63KxXG79gjIVtNXwiwCffbacorZaoLZyAiN022aQ9+IowYPnEkFfnU6rZ6KQYCHT44X5azICh3rN6peXFdvgG3mwnyzRxEAVWce+yVmkOAYg+WaNm64D1mvTOW6E9Of7SYrS30xy3ykSD1RtUkmNQexKmj6uwDmG0K20tWbK0Iik66K8dGLcii3GtgKSJR7P6OLwXDbPZZScoXY/Hr5V2TmgeLoIdHyLeqK0d7GtxfKfEZbe/em0dKXZVIFxH3tGrvcNYBZA+G+A76jLV324n46GVEhNNYPQlc5OrMGm2rXPbUGuv4ppZ7UsIu32VSus1HZVT731BOMpqN+tfU4sbobK7K3qSJndRUJ43tVpLu5IobFTJnE9j5w9cfDll6qTuWdHsmlHdOnuD/LcT8M4VrPNB1+qo15LU1CCrQSx2XBZqmwf9aXez5laSZftmwvw3W1Cy/LwmtyzB5wWStrYqZdFE0NaAxgVC6sZYGqH2Pyij/b8+muq1VvF5IvGjVsfmXBCw4kUgxwRbhYBmWJY/V6puoVettfole5Rk+9BK96bV4ln7GQ67vF6i/Gq96LRB+UYO828Mkf75oALcEtEcfSQ0ugOXzW1U7GFgeLHrCLtPYIj+t7C7sOqjy90wg2pxFH1ua20xsNybwWVrJYwxhv7+iqnnNlXcF81MQMjMbxLKKHge1rptK1sM2njQwSqz1HoUNirQrP3O73hvZW8d1N4eu6Oi9zLJA20mKlHdnYaTobVhzyUjpBo37IIHXKIcPUbEDe0Rad/4DTQuUac8z5Kqr44ltqfF2tBVnZOOJJet378t7lCpjx8IuFQXnsAuBqFsuZLt3nBTORqKy4aWBN5u9q6Tdu3q5Ai+BKd9jEc+nFum4TnLL93SexfLFOtWhF310ToOou6RPCWtcHNgP8dlSC1ffvphU81vN3Vwkx8ataUbdlqWjL6h3+/IzvHX8sQLOJjqtJzI4zXKd/bEpE6PV4Z92mVlh+FVIT4E2S5D8kAWm1e1dJloO3OYuznghAiRsZ4ef45BlYzuEiPzt5lqeEZD5MAd10GXevSErOTnCDu0V3WJ3uzpIowNc8LmKgvHt2QuV0dkIXliy0HE53/Svif4A67BpxLvLk8jJC1GcUSSVPb/u48KZT8IJ3z76M8rGcbcdJTjPts/feqkeFYAHzAKGQQR89LgEFCL88vtXvWP12DV3rb3/9N6d34Fr/9Z9Or9+3zv/21/9wevvQPf721393ekcTK07iX0iaHA82FCyyxT9cUnJtKTRZQUpAgl01D8+KgzIGFz4qFyhIYz5k4g5Qnica9qJQSQ1Ze2Fj9+yNmOWZUvR6PcG3USGotvDmhi4QhT7tDs8SPyd5NwMcb757VjybxboU1Uv2hWo5LsIiM/pUQKPajhlYD3h4mySxeFqDk8gXPPCAI67yoEjLzsl8gSYL0iFpCgID4xAPnZRmLHsZ4R/e/vhDjzrRLSTY42fDdXqs7nZbGS+AGqIUb4tYal/rmd7FYOyWj2rgeLGhI4q6iGZUqrTb0C7vswT0524X90XuHlu7r1jorbhcBzwHDBiCr2x5dBNAu2d9g8brM5aO27nYiwg02LjbsXaldxCQ4nffHX7z+ubFKnl1cHM7//nZYfbT7eub09MClD61gJC8F2KG9qwB5j7/p69ePP8nhifdowBZd7ueC/+4SNCBH33wS3bLc7SQcn63i0cIkAyAQi7tcvQToCwXcDCVnh+AVHB8dkHtKakJ/L6to+VUaTkbaGkHl5AgJquXGdFKCbGU1x4hXZiSIbELA47jDved/sHw0Dl0HXwfb3furbBEUxYPqUI28+V2iwuoKca+u79/0Hf77vCw7+y7/SGHoPdS19EUbzRjHc6PDtjRgH36eKy7P2CfA5d+Howg5wD/Tz8P4ecIn8Fln0eHAOzge33sjV0Hv/eP4C+XPanrYsIIH4UcsoQ+JACjkHDEHq8d4CEFLKG/zyAcHMtd+hcr5ADRj/ANQcehCS4eZhg5NBUTRkNkGUs6pBj7+LO/X3wjsaNBAY4lHmClD+jzuPtAbYAUXXcyQQVUtvGDiEZMreui4UyzRJvzFwB3BQ5VL+wsuxitaQQ7V0HozSK0r4HKlUpbvumFmikShKJuKgN+byjE/fhCJpvr+q+xBeOzCscy15O1PGTy4RF+wmRYmYArs7VmbTRNzX+xXtGNRMfWy9c/WQ4n9uVlPjaXwhjAKZnanzBUszDDMZoPZNcKAzSL0otiBCez6cyfBcODwaE/IAf9Q6ffd7z9YOYMjw6c/SFnD/5GemfsAR+Y3+foV1wo3B6DNdPqKUbX8ZWXtc6YBdIzmWMU55habiTAaxDadHKNMLj4uUf/wAQFtaOl/zoWocWL38YyNGQZZWFqVQCPvEWGmdTANCiGRuNzo5H5f9EYbRRGvTb/yrYrlV3r/Nzp0cnHObQ60mxVPip7XkxQIwQ4ODrc3+8fWRMYmenDSqdcqO2aanxcFw2GwWFwMB0MgpE3mPaHnut7/sw9IsOpfzCYumUXffSXHv2lR3/p0V969Jce/aVHf+nRX3r0lz69v0QC15sOSTAbzAZD9/DocOTODh3PGXijkeP2f11j7NFVeXRV/je7KiOyPxsdDvwBTDEDxz/0yP6wP/Cc0TSYuqNHV+XRVXl0VR5dlUdX5dFVeXRVHl2VR1flV3VVjgbD0eDImw36R6PBtH9wuD/1DmfuIACnxe+7zqOr8uiq/D9zVT7asmT3Pn4b0EvnS2PocOqN3OnhcDhw+4OhNzg66g9nB8N979ALZn3ngJoWWy+pysAbF3cUypuCDzLwRl9MBt44VkzG3LRO/BSsaaNxLexfbAUOxME1i3e3VzTUBWbvVlBfRgndyi2+ez4m0GLoy5TjMiclMAr65E9hftVS0Auis9S75PfEaPtjX/HPrzkE1kFAK3ssBWHMN1wxVaiNdsUUPW6WiztgCsrwyXfmvrj9FogLbHz8bUxxsmSZ+uQVvVyxRoaf42C/a+1ZGjq/ulQWS0GtNwvTTJRNawYIZW7pbKzVljAKeZNv8d8VO0+n</script> <treescope-run-here><script type=\"application/octet-stream\"> const root = ( Array.from(document.getElementsByClassName( \"treescope_out_39380a0a175548b6b52ea1d9cb3d4c8e\")) .filter((elt) => !elt.dataset['step1']) )[0]; root.dataset['step1'] = 1; root.defns.insertContent( this.parentNode.querySelector('script[type=\"application/octet-stream\"]'), true ); this.parentNode.remove(); </script></treescope-run-here> </div>"
      ],
      "text/plain": [
       "<IPython.core.display.HTML object>"
      ]
     },
     "metadata": {},
     "output_type": "display_data"
    }
   ],
   "source": [
    "# Create input tensor\n",
    "encodings_matrix = jnp.array([[1.16, 0.23],\n",
    "                             [0.57, 1.36],\n",
    "                             [4.41, -2.16]])\n",
    "\n",
    "# Set random seed and create RNG key\n",
    "key = jax.random.PRNGKey(42)\n",
    "\n",
    "# Initialize the self-attention module\n",
    "self_attention = SelfAttention(d_model=2,\n",
    "                             row_dim=0,\n",
    "                             col_dim=1,\n",
    "                             rngs=nnx.Rngs(params=key))\n",
    "\n",
    "# Calculate attention scores\n",
    "attention_output = self_attention(encodings_matrix)\n",
    "\n",
    "# Display results\n",
    "print(\"Attention output:\")\n",
    "print(attention_output)\n",
    "nnx.display(self_attention)"
   ]
  },
  {
   "cell_type": "code",
   "execution_count": null,
   "metadata": {},
   "outputs": [],
   "source": []
  }
 ],
 "metadata": {
  "kernelspec": {
   "display_name": ".venv",
   "language": "python",
   "name": "python3"
  },
  "language_info": {
   "codemirror_mode": {
    "name": "ipython",
    "version": 3
   },
   "file_extension": ".py",
   "mimetype": "text/x-python",
   "name": "python",
   "nbconvert_exporter": "python",
   "pygments_lexer": "ipython3",
   "version": "3.11.9"
  }
 },
 "nbformat": 4,
 "nbformat_minor": 2
}
