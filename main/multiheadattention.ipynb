{
 "cells": [
  {
   "cell_type": "markdown",
   "metadata": {},
   "source": [
    "### Multihead Attention"
   ]
  },
  {
   "cell_type": "markdown",
   "metadata": {},
   "source": [
    "### Imports"
   ]
  },
  {
   "cell_type": "code",
   "execution_count": 1,
   "metadata": {},
   "outputs": [],
   "source": [
    "from flax import nnx\n",
    "import jax\n",
    "import jax.numpy as jnp"
   ]
  },
  {
   "cell_type": "markdown",
   "metadata": {},
   "source": [
    "### Attention Block"
   ]
  },
  {
   "cell_type": "code",
   "execution_count": 2,
   "metadata": {},
   "outputs": [],
   "source": [
    "class Attention(nnx.Module):\n",
    "    def __init__(self, d_model: int = 2, \n",
    "                 row_dim: int = 0, \n",
    "                 col_dim: int = 1, \n",
    "                 *, \n",
    "                 rngs: nnx.Rngs):\n",
    "        key = rngs.params()\n",
    "        self.W_q = nnx.Param(jax.random.uniform(key, (d_model, d_model)))\n",
    "        self.W_k = nnx.Param(jax.random.uniform(key, (d_model, d_model)))\n",
    "        self.W_v = nnx.Param(jax.random.uniform(key, (d_model, d_model)))\n",
    "        self.row_dim = row_dim\n",
    "        self.col_dim = col_dim\n",
    "        self.d_model = d_model\n",
    "\n",
    "    def __call__(self, encodings_for_q: jax.Array, \n",
    "                 encodings_for_k: jax.Array, \n",
    "                 encodings_for_v: jax.Array, \n",
    "                 mask: jax.Array = None):\n",
    "        q = encodings_for_q @ self.W_q\n",
    "        k = encodings_for_k @ self.W_k\n",
    "        v = encodings_for_v @ self.W_v\n",
    "\n",
    "        sims = q @ k.swapaxes(self.row_dim, self.col_dim)\n",
    "        scaled_sims = sims / jnp.sqrt(self.d_model)\n",
    "\n",
    "        if mask is not None:\n",
    "            scaled_sims = jnp.where(mask, -1e9, scaled_sims)\n",
    "\n",
    "        attention_percents = jax.nn.softmax(scaled_sims, axis=self.col_dim)\n",
    "        attention_scores = attention_percents @ v\n",
    "\n",
    "        return attention_scores"
   ]
  },
  {
   "cell_type": "markdown",
   "metadata": {},
   "source": [
    "### Multihead attention block"
   ]
  },
  {
   "cell_type": "code",
   "execution_count": 3,
   "metadata": {},
   "outputs": [],
   "source": [
    "class MultiHeadAttention(nnx.Module):\n",
    "    def __init__(self, \n",
    "                 d_model: int = 2, \n",
    "                 row_dim: int = 0, \n",
    "                 col_dim: int = 1, \n",
    "                 num_heads: int = 1, \n",
    "                 *, \n",
    "                 rngs: nnx.Rngs):\n",
    "        self.heads = [Attention(d_model, row_dim, col_dim, rngs=rngs) \n",
    "                     for _ in range(num_heads)]\n",
    "        self.col_dim = col_dim\n",
    "\n",
    "    def __call__(self, \n",
    "                 encodings_for_q: jax.Array, \n",
    "                 encodings_for_k: jax.Array, \n",
    "                 encodings_for_v: jax.Array):\n",
    "        # Run data through all attention heads and concatenate along col_dim\n",
    "        outputs = [head(encodings_for_q, encodings_for_k, encodings_for_v) \n",
    "                  for head in self.heads]\n",
    "        return jnp.concatenate(outputs, axis=self.col_dim)"
   ]
  },
  {
   "cell_type": "markdown",
   "metadata": {},
   "source": []
  }
 ],
 "metadata": {
  "kernelspec": {
   "display_name": ".venv",
   "language": "python",
   "name": "python3"
  },
  "language_info": {
   "codemirror_mode": {
    "name": "ipython",
    "version": 3
   },
   "file_extension": ".py",
   "mimetype": "text/x-python",
   "name": "python",
   "nbconvert_exporter": "python",
   "pygments_lexer": "ipython3",
   "version": "3.11.9"
  }
 },
 "nbformat": 4,
 "nbformat_minor": 2
}
